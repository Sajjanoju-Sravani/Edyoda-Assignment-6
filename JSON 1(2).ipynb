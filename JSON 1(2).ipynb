{
 "cells": [
  {
   "cell_type": "code",
   "execution_count": 4,
   "id": "3f921ea7",
   "metadata": {},
   "outputs": [
    {
     "name": "stdout",
     "output_type": "stream",
     "text": [
      "Enter state name: Telangana\n",
      "Enter city name: Hyderabad\n",
      "_________\n",
      "Enter state name: Goa\n",
      "Enter city name: Panaji\n",
      "_________\n",
      "Enter state name: Maharashtra\n",
      "Enter city name: Mumbai\n",
      "_________\n",
      "Enter state name: Karnataka\n",
      "Enter city name: Bengaluru\n",
      "_________\n",
      "Enter state name: Andhra pradesh\n",
      "Enter city name: Amaravati\n",
      "_________\n",
      "Enter state name: Rajasthan\n",
      "Enter city name: Jaipur\n",
      "_________\n",
      "Enter state name: Tamilnadu\n",
      "Enter city name: Chennai\n",
      "_________\n",
      "State:Telangana capital:Hyderabad\n",
      "State:Goa capital:Panaji\n",
      "State:Maharashtra capital:Mumbai\n",
      "State:Karnataka capital:Bengaluru\n",
      "State:Andhra pradesh capital:Amaravati\n",
      "State:Rajasthan capital:Jaipur\n",
      "State:Tamilnadu capital:Chennai\n"
     ]
    }
   ],
   "source": [
    "import json\n",
    "class State_Capital:\n",
    "    def __init__(self):\n",
    "        self.st_cap={}\n",
    "    def creat_JSON(self):\n",
    "        for i in range(7):\n",
    "            s_name = input(\"Enter state name: \")\n",
    "            c_name = input(\"Enter city name: \")\n",
    "            print(\"_________\")\n",
    "            SC_dict={s_name:c_name}\n",
    "            self.st_cap.update(SC_dict)\n",
    "        with open(\"state_capital.json\",'w') as f:\n",
    "            json.dump(self.st_cap,f)\n",
    "    \n",
    "    def print_JSON(self):\n",
    "        with open(\"state_capital.json\",'r') as f:\n",
    "            data = json.load(f)\n",
    "        for i,j in data.items():\n",
    "            print('State:'+i + ' capital:'+j)\n",
    "\n",
    "x = State_Capital()\n",
    "x.creat_JSON()\n",
    "x.print_JSON()"
   ]
  },
  {
   "cell_type": "code",
   "execution_count": null,
   "id": "96c69afd",
   "metadata": {},
   "outputs": [],
   "source": []
  }
 ],
 "metadata": {
  "kernelspec": {
   "display_name": "Python 3 (ipykernel)",
   "language": "python",
   "name": "python3"
  },
  "language_info": {
   "codemirror_mode": {
    "name": "ipython",
    "version": 3
   },
   "file_extension": ".py",
   "mimetype": "text/x-python",
   "name": "python",
   "nbconvert_exporter": "python",
   "pygments_lexer": "ipython3",
   "version": "3.10.9"
  }
 },
 "nbformat": 4,
 "nbformat_minor": 5
}
