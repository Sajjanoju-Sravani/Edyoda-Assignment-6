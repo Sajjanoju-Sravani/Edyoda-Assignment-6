{
 "cells": [
  {
   "cell_type": "code",
   "execution_count": 1,
   "id": "a98449ec",
   "metadata": {},
   "outputs": [
    {
     "name": "stdout",
     "output_type": "stream",
     "text": [
      "Enter name: Harsha\n",
      "Enter DOB: 20-11-1997\n",
      "Enter height: 5.6\n",
      "Enter city: Hyderaba\n",
      "Enter state: Telangana\n",
      "Enter name: Rajesh\n",
      "Enter DOB: 06-06-1996\n",
      "Enter height: 5.7\n",
      "Enter city: Jagtial\n",
      "Enter state: Telangana\n",
      "Enter name: Sowmya\n",
      "Enter DOB: 13--05-1999\n",
      "Enter height: 5.3\n",
      "Enter city: Suryapet\n",
      "Enter state: Telangana\n",
      "Enter name: Priyanka\n",
      "Enter DOB: 23-07-1999\n",
      "Enter height: 5.4\n",
      "Enter city: Warangal\n",
      "Enter state: Telanagana\n",
      "Enter name: Prabhu\n",
      "Enter DOB: 01-01-1998\n",
      "Enter height: 5.7\n",
      "Enter city: Hyderabad\n",
      "Enter state: Telangana\n",
      "______________\n",
      "[{'name': 'Harsha', 'dob': '20-11-1997', 'height': '5.6', 'city': 'Hyderaba', 'state': 'Telangana'}]\n",
      "[{'name': 'Rajesh', 'dob': '06-06-1996', 'height': '5.7', 'city': 'Jagtial', 'state': 'Telangana'}]\n",
      "[{'name': 'Sowmya', 'dob': '13--05-1999', 'height': '5.3', 'city': 'Suryapet', 'state': 'Telangana'}]\n",
      "[{'name': 'Priyanka', 'dob': '23-07-1999', 'height': '5.4', 'city': 'Warangal', 'state': 'Telanagana'}]\n",
      "[{'name': 'Prabhu', 'dob': '01-01-1998', 'height': '5.7', 'city': 'Hyderabad', 'state': 'Telangana'}]\n"
     ]
    }
   ],
   "source": [
    "import json\n",
    "class Employee:\n",
    "    def __init__(self):\n",
    "        self.emp_dic={}\n",
    "    def creat_JSON(self):\n",
    "        for i in range(5):\n",
    "            name = input(\"Enter name: \")\n",
    "            dob = input(\"Enter DOB: \")\n",
    "            height = input(\"Enter height: \")\n",
    "            city = input(\"Enter city: \")\n",
    "            state = input(\"Enter state: \")\n",
    "            emp={'name':name,'dob':dob,'height':height,'city':city,'state':state}\n",
    "            emp_id = len(self.emp_dic)+1\n",
    "            self.emp_dic[emp_id]=emp\n",
    "        with open(\"emps.json\",'w') as f:\n",
    "            json.dump(self.emp_dic,f)\n",
    "        \n",
    "    def data_print(self):\n",
    "        with open(\"emps.json\",\"r\") as f:\n",
    "            data = json.load(f)\n",
    "        for i in data.values():\n",
    "            l1 = []\n",
    "            l1.append(i)\n",
    "            print(l1)\n",
    "            \n",
    "x = Employee()\n",
    "x.creat_JSON()\n",
    "print(\"______________\")\n",
    "x.data_print()"
   ]
  },
  {
   "cell_type": "code",
   "execution_count": null,
   "id": "9d8a79ec",
   "metadata": {},
   "outputs": [],
   "source": []
  }
 ],
 "metadata": {
  "kernelspec": {
   "display_name": "Python 3 (ipykernel)",
   "language": "python",
   "name": "python3"
  },
  "language_info": {
   "codemirror_mode": {
    "name": "ipython",
    "version": 3
   },
   "file_extension": ".py",
   "mimetype": "text/x-python",
   "name": "python",
   "nbconvert_exporter": "python",
   "pygments_lexer": "ipython3",
   "version": "3.10.9"
  }
 },
 "nbformat": 4,
 "nbformat_minor": 5
}
