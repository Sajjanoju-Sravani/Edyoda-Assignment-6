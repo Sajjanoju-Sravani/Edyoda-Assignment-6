{
 "cells": [
  {
   "cell_type": "code",
   "execution_count": 4,
   "id": "31dda7cf",
   "metadata": {},
   "outputs": [
    {
     "name": "stdout",
     "output_type": "stream",
     "text": [
      "Dog name is:  Duke\n",
      "Age of:  Duke is:  5\n",
      "Coat color of:  Duke is:  Brown\n",
      "The breed has a reputation for being healthy\n",
      "Jack Russells can live from 13 to 16 years\n",
      "Crossbreeds of a jack Russell terrier and a Beagle is called a Jackabee.\n",
      "Dog name is:  Bruno\n",
      "Age of:  Bruno is:  9\n",
      "Coat color of:  Bruno is:  Balck and tan\n",
      "The average life span of the breed as 9 to 13 years\n",
      "Hip and elbow dysplasia cause later in life.\n",
      "Doomed forehead, a long squared cut muzzle with strong jaws, black nose, long neck\n"
     ]
    }
   ],
   "source": [
    "class Dog:\n",
    "    def __init__(self,name,age,coat_color):\n",
    "        self.name = name\n",
    "        self.age = age\n",
    "        self.coat_color = coat_color\n",
    "    def description(self):\n",
    "        print('Dog name is: ', self.name)\n",
    "        print('Age of: ',self.name, 'is: ', self.age)\n",
    "    def get_info(self):\n",
    "        print('Coat color of: ',self.name, 'is: ', self.coat_color)\n",
    "\n",
    "class JackRussellTerrier(Dog):\n",
    "    def health(self):\n",
    "        print('The breed has a reputation for being healthy')\n",
    "        print('Jack Russells can live from 13 to 16 years')\n",
    "    def Crossbreeds(self):\n",
    "        print(\"Crossbreeds of a jack Russell terrier and a Beagle is called a Jackabee.\")\n",
    "\n",
    "class GermanShepherd(Dog):\n",
    "    def health(self):\n",
    "        print('The average life span of the breed as 9 to 13 years')\n",
    "        print('Hip and elbow dysplasia cause later in life.')\n",
    "    def Apperance(self):\n",
    "        print('Doomed forehead, a long squared cut muzzle with strong jaws, black nose, long neck')\n",
    "\n",
    "dog = JackRussellTerrier('Duke', 5, 'Brown')\n",
    "dog.description()\n",
    "dog.get_info()\n",
    "dog.health()\n",
    "dog.Crossbreeds()\n",
    "\n",
    "dog1 = GermanShepherd('Bruno',9,'Balck and tan')\n",
    "dog1.description()\n",
    "dog1.get_info()\n",
    "dog1.health()\n",
    "dog1.Apperance()"
   ]
  },
  {
   "cell_type": "code",
   "execution_count": null,
   "id": "281cfaa9",
   "metadata": {},
   "outputs": [],
   "source": []
  }
 ],
 "metadata": {
  "kernelspec": {
   "display_name": "Python 3 (ipykernel)",
   "language": "python",
   "name": "python3"
  },
  "language_info": {
   "codemirror_mode": {
    "name": "ipython",
    "version": 3
   },
   "file_extension": ".py",
   "mimetype": "text/x-python",
   "name": "python",
   "nbconvert_exporter": "python",
   "pygments_lexer": "ipython3",
   "version": "3.10.9"
  }
 },
 "nbformat": 4,
 "nbformat_minor": 5
}
